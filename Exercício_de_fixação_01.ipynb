{
  "cells": [
    {
      "cell_type": "markdown",
      "metadata": {
        "id": "view-in-github",
        "colab_type": "text"
      },
      "source": [
        "<a href=\"https://colab.research.google.com/github/mdesouzasilva571-pixel/Aula-engenharia-de-software/blob/main/Exerc%C3%ADcio_de_fixa%C3%A7%C3%A3o_01.ipynb\" target=\"_parent\"><img src=\"https://colab.research.google.com/assets/colab-badge.svg\" alt=\"Open In Colab\"/></a>"
      ]
    },
    {
      "cell_type": "code",
      "source": [
        "def eh_par(numero):\n",
        "  return numero % 2 == 0\n",
        "\n",
        "\n",
        "# The following lines are for user input and can be kept or removed depending on whether you want interactive input or just function testing.\n",
        "# numero = int(input(\"Digite um número inteiro: \"))\n",
        "\n",
        "# if eh_par(numero):\n",
        "#   print(f\"O número {numero} é par.\")\n",
        "# else:\n",
        "#   print(f\"O número {numero} é ímpar.\")"
      ],
      "metadata": {
        "id": "slAChA0CWnsh"
      },
      "execution_count": 33,
      "outputs": []
    },
    {
      "cell_type": "code",
      "source": [
        "# Remove the import statement as the function eh_par is defined in another cell in this notebook.\n",
        "# from Exercício de fixação-01 eh_par\n",
        "\n",
        "\n",
        "def eh_par_com_numero_par():\n",
        "  assert eh_par(4) is True\n",
        "  assert eh_par(3) is False\n",
        "\n",
        "eh_par_com_numero_par() # Call the test function"
      ],
      "metadata": {
        "id": "qmUeKa3zbVeJ"
      },
      "execution_count": 31,
      "outputs": []
    }
  ],
  "metadata": {
    "colab": {
      "provenance": [],
      "include_colab_link": true
    },
    "kernelspec": {
      "display_name": "Python 3",
      "name": "python3"
    }
  },
  "nbformat": 4,
  "nbformat_minor": 0
}