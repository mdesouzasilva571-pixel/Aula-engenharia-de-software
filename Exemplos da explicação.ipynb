{
  "cells": [
    {
      "cell_type": "markdown",
      "metadata": {
        "id": "view-in-github",
        "colab_type": "text"
      },
      "source": [
        "<a href=\"https://colab.research.google.com/github/mdesouzasilva571-pixel/Aula-engenharia-de-software/blob/main/Exemplos%20da%20explica%C3%A7%C3%A3o.ipynb\" target=\"_parent\"><img src=\"https://colab.research.google.com/assets/colab-badge.svg\" alt=\"Open In Colab\"/></a>"
      ]
    },
    {
      "cell_type": "code",
      "source": [
        "def soma(a,b):\n",
        "  return a + b\n",
        "def teste_soma():\n",
        "  assert soma(1,2) == 3\n",
        "  assert soma(-1,1) == 0\n",
        "  assert soma('Olá','Mundo') == 'OláMundo'\n",
        "  assert soma(2,3)==5 # This assertion will fail and raise an error before the print statements\n",
        "\n",
        "\n",
        ""
      ],
      "metadata": {
        "id": "O7H8C29EJxoD"
      },
      "execution_count": 19,
      "outputs": []
    },
    {
      "cell_type": "code",
      "source": [
        "class BancoDeDados:\n",
        "  def __init__(self):\n",
        "    self.__dados = {}\n",
        "\n",
        "    def salvar(self, chave, valor):\n",
        "      self.__dados[chave] = valor\n",
        "\n",
        "    def buscar(self, chave):\n",
        "      return self.__dados.get(chave)\n",
        "\n",
        "      def teste_integracao():\n",
        "        bd = BancoDeDados()\n",
        "        bd.salvar('chave1', 'valor1')\n",
        "        assert bd.buscar('chave1') == 'valor1'"
      ],
      "metadata": {
        "id": "w9aFYUK0KqKn"
      },
      "execution_count": 15,
      "outputs": []
    },
    {
      "cell_type": "code",
      "source": [
        "#exemplo simples( simulação, sem Selenium real)\n",
        "\n",
        "def login(usuário, senha):\n",
        "  return usuário == 'admin' and senha == 'password'\n",
        "\n",
        "  def test_login():\n",
        "    assert login(\"admin\",\"123\")== True\n",
        "    assert login(\"usuário\",\"123\")== True"
      ],
      "metadata": {
        "id": "5RVbTWH0LbjW"
      },
      "execution_count": 16,
      "outputs": []
    },
    {
      "cell_type": "code",
      "source": [
        "import time\n",
        "\n",
        "def função_lenta():\n",
        "  time.sleep(0.5)\n",
        "  return True\n",
        "\n",
        "  def test_perfomance():\n",
        "    inicio=time.time()\n",
        "    resultado= função_lenta()\n",
        "    fim=time.time()\n",
        "    assert fim-inicio>=0.5 #deve rodar em menos de 1 segundo\n",
        ""
      ],
      "metadata": {
        "id": "t6mnykO7MNdb"
      },
      "execution_count": 17,
      "outputs": []
    },
    {
      "cell_type": "code",
      "source": [
        "def calcular_desconto(valor):\n",
        "  if valor > 100:\n",
        "    return valor * 0.9\n",
        "\n",
        "  def test_aceitação_desconto():\n",
        "    assert calcular_desconto(200)==180\n",
        "    assert calcular_desconto(100)==100"
      ],
      "metadata": {
        "id": "cdgQ33SBNBE6"
      },
      "execution_count": 20,
      "outputs": []
    },
    {
      "cell_type": "code",
      "source": [
        "def autenticar(usuario,senha):\n",
        "  #simulação de segurança\n",
        "  if \"\" in usuario or \"\" in senha:\n",
        "    return \"Tentativa de ataque detectada!\"\n",
        "    if usuario == \"admin\" and senha==\"123\":\n",
        "      return \"Login autorizado\"\n",
        "      return \"acesso negado\"\n",
        "\n",
        "      def test_seguro():\n",
        "        assert autenticar(\"admin\",\"123\")==\"Login autorizado\"\n",
        "        assert autenticar(\"admin\",\"\")==\"Tentativa de ataque detectada!\""
      ],
      "metadata": {
        "id": "EXQ24LgQNgCZ"
      },
      "execution_count": 21,
      "outputs": []
    }
  ],
  "metadata": {
    "colab": {
      "provenance": [],
      "include_colab_link": true
    },
    "kernelspec": {
      "display_name": "Python 3",
      "name": "python3"
    }
  },
  "nbformat": 4,
  "nbformat_minor": 0
}